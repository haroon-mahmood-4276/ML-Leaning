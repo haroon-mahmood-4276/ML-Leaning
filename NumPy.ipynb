{
 "cells": [
  {
   "attachments": {},
   "cell_type": "markdown",
   "metadata": {},
   "source": [
    "# NumPy Learning"
   ]
  },
  {
   "cell_type": "code",
   "execution_count": 3,
   "metadata": {},
   "outputs": [
    {
     "name": "stdout",
     "output_type": "stream",
     "text": [
      "Requirement already satisfied: asttokens==2.2.1 in ./venv/lib/python3.10/site-packages (from -r requirements.txt (line 1)) (2.2.1)\n",
      "Requirement already satisfied: autopep8==2.0.1 in ./venv/lib/python3.10/site-packages (from -r requirements.txt (line 2)) (2.0.1)\n",
      "Requirement already satisfied: backcall==0.2.0 in ./venv/lib/python3.10/site-packages (from -r requirements.txt (line 3)) (0.2.0)\n",
      "Requirement already satisfied: comm==0.1.2 in ./venv/lib/python3.10/site-packages (from -r requirements.txt (line 4)) (0.1.2)\n",
      "Requirement already satisfied: debugpy==1.6.5 in ./venv/lib/python3.10/site-packages (from -r requirements.txt (line 5)) (1.6.5)\n",
      "Requirement already satisfied: decorator==5.1.1 in ./venv/lib/python3.10/site-packages (from -r requirements.txt (line 6)) (5.1.1)\n",
      "Requirement already satisfied: entrypoints==0.4 in ./venv/lib/python3.10/site-packages (from -r requirements.txt (line 7)) (0.4)\n",
      "Requirement already satisfied: executing==1.2.0 in ./venv/lib/python3.10/site-packages (from -r requirements.txt (line 8)) (1.2.0)\n",
      "Requirement already satisfied: ipykernel==6.20.1 in ./venv/lib/python3.10/site-packages (from -r requirements.txt (line 9)) (6.20.1)\n",
      "Requirement already satisfied: ipython==8.8.0 in ./venv/lib/python3.10/site-packages (from -r requirements.txt (line 10)) (8.8.0)\n",
      "Requirement already satisfied: jedi==0.18.2 in ./venv/lib/python3.10/site-packages (from -r requirements.txt (line 11)) (0.18.2)\n",
      "Requirement already satisfied: jupyter_client==7.4.8 in ./venv/lib/python3.10/site-packages (from -r requirements.txt (line 12)) (7.4.8)\n",
      "Requirement already satisfied: jupyter_core==5.1.3 in ./venv/lib/python3.10/site-packages (from -r requirements.txt (line 13)) (5.1.3)\n",
      "Requirement already satisfied: matplotlib-inline==0.1.6 in ./venv/lib/python3.10/site-packages (from -r requirements.txt (line 14)) (0.1.6)\n",
      "Requirement already satisfied: nest-asyncio==1.5.6 in ./venv/lib/python3.10/site-packages (from -r requirements.txt (line 15)) (1.5.6)\n",
      "Requirement already satisfied: numpy==1.24.1 in ./venv/lib/python3.10/site-packages (from -r requirements.txt (line 16)) (1.24.1)\n",
      "Requirement already satisfied: packaging==23.0 in ./venv/lib/python3.10/site-packages (from -r requirements.txt (line 17)) (23.0)\n",
      "Requirement already satisfied: parso==0.8.3 in ./venv/lib/python3.10/site-packages (from -r requirements.txt (line 18)) (0.8.3)\n",
      "Requirement already satisfied: pexpect==4.8.0 in ./venv/lib/python3.10/site-packages (from -r requirements.txt (line 19)) (4.8.0)\n",
      "Requirement already satisfied: pickleshare==0.7.5 in ./venv/lib/python3.10/site-packages (from -r requirements.txt (line 20)) (0.7.5)\n",
      "Requirement already satisfied: platformdirs==2.6.2 in ./venv/lib/python3.10/site-packages (from -r requirements.txt (line 21)) (2.6.2)\n",
      "Requirement already satisfied: prompt-toolkit==3.0.36 in ./venv/lib/python3.10/site-packages (from -r requirements.txt (line 22)) (3.0.36)\n",
      "Requirement already satisfied: psutil==5.9.4 in ./venv/lib/python3.10/site-packages (from -r requirements.txt (line 23)) (5.9.4)\n",
      "Requirement already satisfied: ptyprocess==0.7.0 in ./venv/lib/python3.10/site-packages (from -r requirements.txt (line 24)) (0.7.0)\n",
      "Requirement already satisfied: pure-eval==0.2.2 in ./venv/lib/python3.10/site-packages (from -r requirements.txt (line 25)) (0.2.2)\n",
      "Requirement already satisfied: pycodestyle==2.10.0 in ./venv/lib/python3.10/site-packages (from -r requirements.txt (line 26)) (2.10.0)\n",
      "Requirement already satisfied: Pygments==2.14.0 in ./venv/lib/python3.10/site-packages (from -r requirements.txt (line 27)) (2.14.0)\n",
      "Requirement already satisfied: python-dateutil==2.8.2 in ./venv/lib/python3.10/site-packages (from -r requirements.txt (line 28)) (2.8.2)\n",
      "Requirement already satisfied: pyzmq==24.0.1 in ./venv/lib/python3.10/site-packages (from -r requirements.txt (line 29)) (24.0.1)\n",
      "Requirement already satisfied: six==1.16.0 in ./venv/lib/python3.10/site-packages (from -r requirements.txt (line 30)) (1.16.0)\n",
      "Requirement already satisfied: stack-data==0.6.2 in ./venv/lib/python3.10/site-packages (from -r requirements.txt (line 31)) (0.6.2)\n",
      "Requirement already satisfied: tomli==2.0.1 in ./venv/lib/python3.10/site-packages (from -r requirements.txt (line 32)) (2.0.1)\n",
      "Requirement already satisfied: tornado==6.2 in ./venv/lib/python3.10/site-packages (from -r requirements.txt (line 33)) (6.2)\n",
      "Requirement already satisfied: traitlets==5.8.1 in ./venv/lib/python3.10/site-packages (from -r requirements.txt (line 34)) (5.8.1)\n",
      "Requirement already satisfied: wcwidth==0.2.5 in ./venv/lib/python3.10/site-packages (from -r requirements.txt (line 35)) (0.2.5)\n",
      "Note: you may need to restart the kernel to use updated packages.\n"
     ]
    }
   ],
   "source": [
    "pip install -r requirements.txt"
   ]
  },
  {
   "cell_type": "code",
   "execution_count": 4,
   "metadata": {},
   "outputs": [],
   "source": [
    "import numpy as np"
   ]
  },
  {
   "attachments": {},
   "cell_type": "markdown",
   "metadata": {},
   "source": [
    "## Arrays"
   ]
  },
  {
   "cell_type": "code",
   "execution_count": 5,
   "metadata": {},
   "outputs": [
    {
     "name": "stdout",
     "output_type": "stream",
     "text": [
      "[1 2 3 4 5 6]\n"
     ]
    }
   ],
   "source": [
    "# Array\n",
    "a = np.array([1, 2, 3, 4, 5, 6])\n",
    "print(a)"
   ]
  },
  {
   "cell_type": "code",
   "execution_count": 6,
   "metadata": {},
   "outputs": [
    {
     "name": "stdout",
     "output_type": "stream",
     "text": [
      "[[ 1  2  3  4]\n",
      " [ 5  6  7  8]\n",
      " [ 9 10 11 12]]\n"
     ]
    },
    {
     "data": {
      "text/plain": [
       "11"
      ]
     },
     "execution_count": 6,
     "metadata": {},
     "output_type": "execute_result"
    }
   ],
   "source": [
    "a = np.array([[1, 2, 3, 4], [5, 6, 7, 8], [9, 10, 11, 12]])\n",
    "print(a)\n",
    "a[2,2]"
   ]
  },
  {
   "cell_type": "code",
   "execution_count": 7,
   "metadata": {},
   "outputs": [
    {
     "data": {
      "text/plain": [
       "array([0., 0.])"
      ]
     },
     "execution_count": 7,
     "metadata": {},
     "output_type": "execute_result"
    }
   ],
   "source": [
    "np.zeros(2)"
   ]
  },
  {
   "cell_type": "code",
   "execution_count": 8,
   "metadata": {},
   "outputs": [
    {
     "data": {
      "text/plain": [
       "array([1., 1.])"
      ]
     },
     "execution_count": 8,
     "metadata": {},
     "output_type": "execute_result"
    }
   ],
   "source": [
    "np.ones(2)"
   ]
  },
  {
   "cell_type": "code",
   "execution_count": 9,
   "metadata": {},
   "outputs": [
    {
     "data": {
      "text/plain": [
       "array([4.63829075e-310, 0.00000000e+000, 4.63941331e-310, 4.63941330e-310,\n",
       "       3.16202013e-322])"
      ]
     },
     "execution_count": 9,
     "metadata": {},
     "output_type": "execute_result"
    }
   ],
   "source": [
    "np.empty(5) "
   ]
  },
  {
   "cell_type": "code",
   "execution_count": 10,
   "metadata": {},
   "outputs": [
    {
     "data": {
      "text/plain": [
       "array([ 0,  1,  2,  3,  4,  5,  6,  7,  8,  9, 10, 11, 12, 13, 14, 15, 16,\n",
       "       17, 18, 19, 20, 21, 22, 23, 24, 25, 26, 27, 28, 29, 30, 31, 32, 33,\n",
       "       34, 35, 36, 37, 38, 39, 40, 41, 42, 43, 44, 45, 46, 47, 48, 49, 50,\n",
       "       51, 52, 53, 54, 55, 56, 57, 58, 59, 60, 61, 62, 63, 64, 65])"
      ]
     },
     "execution_count": 10,
     "metadata": {},
     "output_type": "execute_result"
    }
   ],
   "source": [
    "np.arange(66)"
   ]
  },
  {
   "cell_type": "code",
   "execution_count": 11,
   "metadata": {},
   "outputs": [
    {
     "data": {
      "text/plain": [
       "array([ 1,  2,  3,  4,  5,  6,  7,  8,  9, 10, 11, 12, 13, 14, 15, 16, 17,\n",
       "       18, 19, 20, 21, 22, 23, 24, 25, 26, 27, 28, 29, 30, 31, 32, 33, 34,\n",
       "       35, 36, 37, 38, 39, 40, 41, 42, 43, 44, 45, 46, 47, 48, 49, 50])"
      ]
     },
     "execution_count": 11,
     "metadata": {},
     "output_type": "execute_result"
    }
   ],
   "source": [
    "np.arange(50) + 1"
   ]
  },
  {
   "cell_type": "code",
   "execution_count": 12,
   "metadata": {},
   "outputs": [
    {
     "data": {
      "text/plain": [
       "array([ 0,  2,  4,  6,  8, 10, 12, 14, 16, 18, 20, 22, 24, 26, 28, 30, 32,\n",
       "       34, 36, 38, 40, 42, 44, 46, 48, 50, 52, 54, 56, 58, 60, 62, 64, 66,\n",
       "       68, 70, 72, 74, 76, 78, 80, 82, 84, 86, 88, 90, 92, 94, 96, 98])"
      ]
     },
     "execution_count": 12,
     "metadata": {},
     "output_type": "execute_result"
    }
   ],
   "source": [
    "np.arange(50) * 2"
   ]
  },
  {
   "cell_type": "code",
   "execution_count": 13,
   "metadata": {},
   "outputs": [
    {
     "data": {
      "text/plain": [
       "array([ 0. ,  0.5,  1. ,  1.5,  2. ,  2.5,  3. ,  3.5,  4. ,  4.5,  5. ,\n",
       "        5.5,  6. ,  6.5,  7. ,  7.5,  8. ,  8.5,  9. ,  9.5, 10. , 10.5,\n",
       "       11. , 11.5, 12. , 12.5, 13. , 13.5, 14. , 14.5, 15. , 15.5, 16. ,\n",
       "       16.5, 17. , 17.5, 18. , 18.5, 19. , 19.5, 20. , 20.5, 21. , 21.5,\n",
       "       22. , 22.5, 23. , 23.5, 24. , 24.5])"
      ]
     },
     "execution_count": 13,
     "metadata": {},
     "output_type": "execute_result"
    }
   ],
   "source": [
    "np.arange(50) / 2"
   ]
  },
  {
   "cell_type": "code",
   "execution_count": 14,
   "metadata": {},
   "outputs": [
    {
     "data": {
      "text/plain": [
       "array([2, 3, 4, 5, 6, 7, 8, 9])"
      ]
     },
     "execution_count": 14,
     "metadata": {},
     "output_type": "execute_result"
    }
   ],
   "source": [
    "np.arange(1, 9) + 1\n"
   ]
  },
  {
   "cell_type": "code",
   "execution_count": 15,
   "metadata": {},
   "outputs": [
    {
     "data": {
      "text/plain": [
       "array([ 0.,  2.,  4.,  6.,  8., 10.])"
      ]
     },
     "execution_count": 15,
     "metadata": {},
     "output_type": "execute_result"
    }
   ],
   "source": [
    "np.linspace(0, 10, num=6)"
   ]
  },
  {
   "attachments": {},
   "cell_type": "markdown",
   "metadata": {},
   "source": [
    "## Adding, removing, and sorting elements"
   ]
  },
  {
   "cell_type": "code",
   "execution_count": 16,
   "metadata": {},
   "outputs": [
    {
     "data": {
      "text/plain": [
       "array([1, 2, 3, 4, 5, 6, 7, 8])"
      ]
     },
     "execution_count": 16,
     "metadata": {},
     "output_type": "execute_result"
    }
   ],
   "source": [
    "arr = np.array([2, 1, 5, 3, 7, 4, 6, 8])\n",
    "np.sort(arr)"
   ]
  },
  {
   "cell_type": "code",
   "execution_count": 17,
   "metadata": {},
   "outputs": [
    {
     "data": {
      "text/plain": [
       "array([1, 2, 3, 4, 5, 6, 7, 8])"
      ]
     },
     "execution_count": 17,
     "metadata": {},
     "output_type": "execute_result"
    }
   ],
   "source": [
    "a = np.array([1, 2, 3, 4])\n",
    "b = np.array([5, 6, 7, 8])\n",
    "np.concatenate((a, b))"
   ]
  },
  {
   "cell_type": "code",
   "execution_count": 18,
   "metadata": {},
   "outputs": [
    {
     "data": {
      "text/plain": [
       "array([[1, 2],\n",
       "       [7, 6],\n",
       "       [5, 6]])"
      ]
     },
     "execution_count": 18,
     "metadata": {},
     "output_type": "execute_result"
    }
   ],
   "source": [
    "x = np.array([[1, 2], [7, 6]])\n",
    "y = np.array([[5, 6]])\n",
    "np.concatenate((x,y))"
   ]
  },
  {
   "cell_type": "code",
   "execution_count": 26,
   "metadata": {},
   "outputs": [
    {
     "ename": "MemoryError",
     "evalue": "Unable to allocate 74.5 GiB for an array with shape (99999, 99999) and data type int64",
     "output_type": "error",
     "traceback": [
      "\u001b[0;31m---------------------------------------------------------------------------\u001b[0m",
      "\u001b[0;31mMemoryError\u001b[0m                               Traceback (most recent call last)",
      "Cell \u001b[0;32mIn[26], line 1\u001b[0m\n\u001b[0;32m----> 1\u001b[0m np\u001b[39m.\u001b[39;49mzeros((\u001b[39m99999\u001b[39;49m,\u001b[39m99999\u001b[39;49m), dtype\u001b[39m=\u001b[39;49m\u001b[39m'\u001b[39;49m\u001b[39mint64\u001b[39;49m\u001b[39m'\u001b[39;49m)\n",
      "\u001b[0;31mMemoryError\u001b[0m: Unable to allocate 74.5 GiB for an array with shape (99999, 99999) and data type int64"
     ]
    }
   ],
   "source": [
    "np.zeros((99999,99999), dtype='int64')"
   ]
  },
  {
   "cell_type": "code",
   "execution_count": 30,
   "metadata": {},
   "outputs": [
    {
     "ename": "MemoryError",
     "evalue": "Unable to allocate 298. GiB for an array with shape (200000, 200000) and data type float64",
     "output_type": "error",
     "traceback": [
      "\u001b[0;31m---------------------------------------------------------------------------\u001b[0m",
      "\u001b[0;31mMemoryError\u001b[0m                               Traceback (most recent call last)",
      "Cell \u001b[0;32mIn[30], line 1\u001b[0m\n\u001b[0;32m----> 1\u001b[0m np\u001b[39m.\u001b[39;49midentity(\u001b[39m200000\u001b[39;49m)\n",
      "File \u001b[0;32m~/Desktop/haroon-codedistrict/Learning/ML/venv/lib/python3.10/site-packages/numpy/core/numeric.py:2187\u001b[0m, in \u001b[0;36midentity\u001b[0;34m(n, dtype, like)\u001b[0m\n\u001b[1;32m   2184\u001b[0m     \u001b[39mreturn\u001b[39;00m _identity_with_like(n, dtype\u001b[39m=\u001b[39mdtype, like\u001b[39m=\u001b[39mlike)\n\u001b[1;32m   2186\u001b[0m \u001b[39mfrom\u001b[39;00m \u001b[39mnumpy\u001b[39;00m \u001b[39mimport\u001b[39;00m eye\n\u001b[0;32m-> 2187\u001b[0m \u001b[39mreturn\u001b[39;00m eye(n, dtype\u001b[39m=\u001b[39;49mdtype, like\u001b[39m=\u001b[39;49mlike)\n",
      "File \u001b[0;32m~/Desktop/haroon-codedistrict/Learning/ML/venv/lib/python3.10/site-packages/numpy/lib/twodim_base.py:215\u001b[0m, in \u001b[0;36meye\u001b[0;34m(N, M, k, dtype, order, like)\u001b[0m\n\u001b[1;32m    213\u001b[0m \u001b[39mif\u001b[39;00m M \u001b[39mis\u001b[39;00m \u001b[39mNone\u001b[39;00m:\n\u001b[1;32m    214\u001b[0m     M \u001b[39m=\u001b[39m N\n\u001b[0;32m--> 215\u001b[0m m \u001b[39m=\u001b[39m zeros((N, M), dtype\u001b[39m=\u001b[39;49mdtype, order\u001b[39m=\u001b[39;49morder)\n\u001b[1;32m    216\u001b[0m \u001b[39mif\u001b[39;00m k \u001b[39m>\u001b[39m\u001b[39m=\u001b[39m M:\n\u001b[1;32m    217\u001b[0m     \u001b[39mreturn\u001b[39;00m m\n",
      "\u001b[0;31mMemoryError\u001b[0m: Unable to allocate 298. GiB for an array with shape (200000, 200000) and data type float64"
     ]
    }
   ],
   "source": [
    "np.identity(200000)"
   ]
  }
 ],
 "metadata": {
  "kernelspec": {
   "display_name": "venv",
   "language": "python",
   "name": "python3"
  },
  "language_info": {
   "codemirror_mode": {
    "name": "ipython",
    "version": 3
   },
   "file_extension": ".py",
   "mimetype": "text/x-python",
   "name": "python",
   "nbconvert_exporter": "python",
   "pygments_lexer": "ipython3",
   "version": "3.10.6 (main, Nov 14 2022, 16:10:14) [GCC 11.3.0]"
  },
  "orig_nbformat": 4,
  "vscode": {
   "interpreter": {
    "hash": "1e0c698051b21bfdeb803ae7a60794cf1d5cfa15e417786d6dc0ab4fc7ea65f2"
   }
  }
 },
 "nbformat": 4,
 "nbformat_minor": 2
}
