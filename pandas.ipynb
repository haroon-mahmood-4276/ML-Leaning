{
 "cells": [
  {
   "attachments": {},
   "cell_type": "markdown",
   "metadata": {},
   "source": [
    "# Pandas"
   ]
  },
  {
   "attachments": {},
   "cell_type": "markdown",
   "metadata": {},
   "source": [
    "## Install requirements\n"
   ]
  },
  {
   "cell_type": "code",
   "execution_count": 1,
   "metadata": {},
   "outputs": [
    {
     "name": "stdout",
     "output_type": "stream",
     "text": [
      "Requirement already satisfied: anyio==3.6.2 in ./venv/lib/python3.10/site-packages (from -r requirements.txt (line 1)) (3.6.2)\n",
      "Requirement already satisfied: argon2-cffi==21.3.0 in ./venv/lib/python3.10/site-packages (from -r requirements.txt (line 2)) (21.3.0)\n",
      "Requirement already satisfied: argon2-cffi-bindings==21.2.0 in ./venv/lib/python3.10/site-packages (from -r requirements.txt (line 3)) (21.2.0)\n",
      "Requirement already satisfied: arrow==1.2.3 in ./venv/lib/python3.10/site-packages (from -r requirements.txt (line 4)) (1.2.3)\n",
      "Requirement already satisfied: asttokens==2.2.1 in ./venv/lib/python3.10/site-packages (from -r requirements.txt (line 5)) (2.2.1)\n",
      "Requirement already satisfied: attrs==22.2.0 in ./venv/lib/python3.10/site-packages (from -r requirements.txt (line 6)) (22.2.0)\n",
      "Requirement already satisfied: autopep8==2.0.1 in ./venv/lib/python3.10/site-packages (from -r requirements.txt (line 7)) (2.0.1)\n",
      "Requirement already satisfied: backcall==0.2.0 in ./venv/lib/python3.10/site-packages (from -r requirements.txt (line 8)) (0.2.0)\n",
      "Requirement already satisfied: beautifulsoup4==4.11.1 in ./venv/lib/python3.10/site-packages (from -r requirements.txt (line 9)) (4.11.1)\n",
      "Requirement already satisfied: bleach==5.0.1 in ./venv/lib/python3.10/site-packages (from -r requirements.txt (line 10)) (5.0.1)\n",
      "Requirement already satisfied: cffi==1.15.1 in ./venv/lib/python3.10/site-packages (from -r requirements.txt (line 11)) (1.15.1)\n",
      "Requirement already satisfied: comm==0.1.2 in ./venv/lib/python3.10/site-packages (from -r requirements.txt (line 12)) (0.1.2)\n",
      "Requirement already satisfied: debugpy==1.6.5 in ./venv/lib/python3.10/site-packages (from -r requirements.txt (line 13)) (1.6.5)\n",
      "Requirement already satisfied: decorator==5.1.1 in ./venv/lib/python3.10/site-packages (from -r requirements.txt (line 14)) (5.1.1)\n",
      "Requirement already satisfied: defusedxml==0.7.1 in ./venv/lib/python3.10/site-packages (from -r requirements.txt (line 15)) (0.7.1)\n",
      "Requirement already satisfied: entrypoints==0.4 in ./venv/lib/python3.10/site-packages (from -r requirements.txt (line 16)) (0.4)\n",
      "Requirement already satisfied: executing==1.2.0 in ./venv/lib/python3.10/site-packages (from -r requirements.txt (line 17)) (1.2.0)\n",
      "Requirement already satisfied: fastjsonschema==2.16.2 in ./venv/lib/python3.10/site-packages (from -r requirements.txt (line 18)) (2.16.2)\n",
      "Requirement already satisfied: fqdn==1.5.1 in ./venv/lib/python3.10/site-packages (from -r requirements.txt (line 19)) (1.5.1)\n",
      "Requirement already satisfied: idna==3.4 in ./venv/lib/python3.10/site-packages (from -r requirements.txt (line 20)) (3.4)\n",
      "Requirement already satisfied: ipykernel==6.20.1 in ./venv/lib/python3.10/site-packages (from -r requirements.txt (line 21)) (6.20.1)\n",
      "Requirement already satisfied: ipython==8.8.0 in ./venv/lib/python3.10/site-packages (from -r requirements.txt (line 22)) (8.8.0)\n",
      "Requirement already satisfied: ipython-genutils==0.2.0 in ./venv/lib/python3.10/site-packages (from -r requirements.txt (line 23)) (0.2.0)\n",
      "Requirement already satisfied: isoduration==20.11.0 in ./venv/lib/python3.10/site-packages (from -r requirements.txt (line 24)) (20.11.0)\n",
      "Requirement already satisfied: jedi==0.18.2 in ./venv/lib/python3.10/site-packages (from -r requirements.txt (line 25)) (0.18.2)\n",
      "Requirement already satisfied: Jinja2==3.1.2 in ./venv/lib/python3.10/site-packages (from -r requirements.txt (line 26)) (3.1.2)\n",
      "Requirement already satisfied: jsonpointer==2.3 in ./venv/lib/python3.10/site-packages (from -r requirements.txt (line 27)) (2.3)\n",
      "Requirement already satisfied: jsonschema==4.17.3 in ./venv/lib/python3.10/site-packages (from -r requirements.txt (line 28)) (4.17.3)\n",
      "Requirement already satisfied: jupyter-events==0.6.2 in ./venv/lib/python3.10/site-packages (from -r requirements.txt (line 29)) (0.6.2)\n",
      "Requirement already satisfied: jupyter_client==7.4.8 in ./venv/lib/python3.10/site-packages (from -r requirements.txt (line 30)) (7.4.8)\n",
      "Requirement already satisfied: jupyter_core==5.1.3 in ./venv/lib/python3.10/site-packages (from -r requirements.txt (line 31)) (5.1.3)\n",
      "Requirement already satisfied: jupyter_server==2.0.6 in ./venv/lib/python3.10/site-packages (from -r requirements.txt (line 32)) (2.0.6)\n",
      "Requirement already satisfied: jupyter_server_terminals==0.4.4 in ./venv/lib/python3.10/site-packages (from -r requirements.txt (line 33)) (0.4.4)\n",
      "Requirement already satisfied: jupyterlab-pygments==0.2.2 in ./venv/lib/python3.10/site-packages (from -r requirements.txt (line 34)) (0.2.2)\n",
      "Requirement already satisfied: MarkupSafe==2.1.1 in ./venv/lib/python3.10/site-packages (from -r requirements.txt (line 35)) (2.1.1)\n",
      "Requirement already satisfied: matplotlib-inline==0.1.6 in ./venv/lib/python3.10/site-packages (from -r requirements.txt (line 36)) (0.1.6)\n",
      "Requirement already satisfied: mistune==2.0.4 in ./venv/lib/python3.10/site-packages (from -r requirements.txt (line 37)) (2.0.4)\n",
      "Requirement already satisfied: nbclassic==0.4.8 in ./venv/lib/python3.10/site-packages (from -r requirements.txt (line 38)) (0.4.8)\n",
      "Requirement already satisfied: nbclient==0.7.2 in ./venv/lib/python3.10/site-packages (from -r requirements.txt (line 39)) (0.7.2)\n",
      "Requirement already satisfied: nbconvert==7.2.7 in ./venv/lib/python3.10/site-packages (from -r requirements.txt (line 40)) (7.2.7)\n",
      "Requirement already satisfied: nbformat==5.7.2 in ./venv/lib/python3.10/site-packages (from -r requirements.txt (line 41)) (5.7.2)\n",
      "Requirement already satisfied: nest-asyncio==1.5.6 in ./venv/lib/python3.10/site-packages (from -r requirements.txt (line 42)) (1.5.6)\n",
      "Requirement already satisfied: notebook==6.5.2 in ./venv/lib/python3.10/site-packages (from -r requirements.txt (line 43)) (6.5.2)\n",
      "Requirement already satisfied: notebook_shim==0.2.2 in ./venv/lib/python3.10/site-packages (from -r requirements.txt (line 44)) (0.2.2)\n",
      "Requirement already satisfied: numpy==1.24.1 in ./venv/lib/python3.10/site-packages (from -r requirements.txt (line 45)) (1.24.1)\n",
      "Requirement already satisfied: packaging==23.0 in ./venv/lib/python3.10/site-packages (from -r requirements.txt (line 46)) (23.0)\n",
      "Requirement already satisfied: pandas==1.5.2 in ./venv/lib/python3.10/site-packages (from -r requirements.txt (line 47)) (1.5.2)\n",
      "Requirement already satisfied: pandocfilters==1.5.0 in ./venv/lib/python3.10/site-packages (from -r requirements.txt (line 48)) (1.5.0)\n",
      "Requirement already satisfied: parso==0.8.3 in ./venv/lib/python3.10/site-packages (from -r requirements.txt (line 49)) (0.8.3)\n",
      "Requirement already satisfied: pexpect==4.8.0 in ./venv/lib/python3.10/site-packages (from -r requirements.txt (line 50)) (4.8.0)\n",
      "Requirement already satisfied: pickleshare==0.7.5 in ./venv/lib/python3.10/site-packages (from -r requirements.txt (line 51)) (0.7.5)\n",
      "Requirement already satisfied: platformdirs==2.6.2 in ./venv/lib/python3.10/site-packages (from -r requirements.txt (line 52)) (2.6.2)\n",
      "Requirement already satisfied: prometheus-client==0.15.0 in ./venv/lib/python3.10/site-packages (from -r requirements.txt (line 53)) (0.15.0)\n",
      "Requirement already satisfied: prompt-toolkit==3.0.36 in ./venv/lib/python3.10/site-packages (from -r requirements.txt (line 54)) (3.0.36)\n",
      "Requirement already satisfied: psutil==5.9.4 in ./venv/lib/python3.10/site-packages (from -r requirements.txt (line 55)) (5.9.4)\n",
      "Requirement already satisfied: ptyprocess==0.7.0 in ./venv/lib/python3.10/site-packages (from -r requirements.txt (line 56)) (0.7.0)\n",
      "Requirement already satisfied: pure-eval==0.2.2 in ./venv/lib/python3.10/site-packages (from -r requirements.txt (line 57)) (0.2.2)\n",
      "Requirement already satisfied: pycodestyle==2.10.0 in ./venv/lib/python3.10/site-packages (from -r requirements.txt (line 58)) (2.10.0)\n",
      "Requirement already satisfied: pycparser==2.21 in ./venv/lib/python3.10/site-packages (from -r requirements.txt (line 59)) (2.21)\n",
      "Requirement already satisfied: Pygments==2.14.0 in ./venv/lib/python3.10/site-packages (from -r requirements.txt (line 60)) (2.14.0)\n",
      "Requirement already satisfied: pyrsistent==0.19.3 in ./venv/lib/python3.10/site-packages (from -r requirements.txt (line 61)) (0.19.3)\n",
      "Requirement already satisfied: python-dateutil==2.8.2 in ./venv/lib/python3.10/site-packages (from -r requirements.txt (line 62)) (2.8.2)\n",
      "Requirement already satisfied: python-json-logger==2.0.4 in ./venv/lib/python3.10/site-packages (from -r requirements.txt (line 63)) (2.0.4)\n",
      "Requirement already satisfied: pytz==2022.7.1 in ./venv/lib/python3.10/site-packages (from -r requirements.txt (line 64)) (2022.7.1)\n",
      "Requirement already satisfied: PyYAML==6.0 in ./venv/lib/python3.10/site-packages (from -r requirements.txt (line 65)) (6.0)\n",
      "Requirement already satisfied: pyzmq==24.0.1 in ./venv/lib/python3.10/site-packages (from -r requirements.txt (line 66)) (24.0.1)\n",
      "Requirement already satisfied: rfc3339-validator==0.1.4 in ./venv/lib/python3.10/site-packages (from -r requirements.txt (line 67)) (0.1.4)\n",
      "Requirement already satisfied: rfc3986-validator==0.1.1 in ./venv/lib/python3.10/site-packages (from -r requirements.txt (line 68)) (0.1.1)\n",
      "Requirement already satisfied: Send2Trash==1.8.0 in ./venv/lib/python3.10/site-packages (from -r requirements.txt (line 69)) (1.8.0)\n",
      "Requirement already satisfied: six==1.16.0 in ./venv/lib/python3.10/site-packages (from -r requirements.txt (line 70)) (1.16.0)\n",
      "Requirement already satisfied: sniffio==1.3.0 in ./venv/lib/python3.10/site-packages (from -r requirements.txt (line 71)) (1.3.0)\n",
      "Requirement already satisfied: soupsieve==2.3.2.post1 in ./venv/lib/python3.10/site-packages (from -r requirements.txt (line 72)) (2.3.2.post1)\n",
      "Requirement already satisfied: stack-data==0.6.2 in ./venv/lib/python3.10/site-packages (from -r requirements.txt (line 73)) (0.6.2)\n",
      "Requirement already satisfied: terminado==0.17.1 in ./venv/lib/python3.10/site-packages (from -r requirements.txt (line 74)) (0.17.1)\n",
      "Requirement already satisfied: tinycss2==1.2.1 in ./venv/lib/python3.10/site-packages (from -r requirements.txt (line 75)) (1.2.1)\n",
      "Requirement already satisfied: tomli==2.0.1 in ./venv/lib/python3.10/site-packages (from -r requirements.txt (line 76)) (2.0.1)\n",
      "Requirement already satisfied: tornado==6.2 in ./venv/lib/python3.10/site-packages (from -r requirements.txt (line 77)) (6.2)\n",
      "Requirement already satisfied: traitlets==5.8.1 in ./venv/lib/python3.10/site-packages (from -r requirements.txt (line 78)) (5.8.1)\n",
      "Requirement already satisfied: uri-template==1.2.0 in ./venv/lib/python3.10/site-packages (from -r requirements.txt (line 79)) (1.2.0)\n",
      "Requirement already satisfied: wcwidth==0.2.5 in ./venv/lib/python3.10/site-packages (from -r requirements.txt (line 80)) (0.2.5)\n",
      "Requirement already satisfied: webcolors==1.12 in ./venv/lib/python3.10/site-packages (from -r requirements.txt (line 81)) (1.12)\n",
      "Requirement already satisfied: webencodings==0.5.1 in ./venv/lib/python3.10/site-packages (from -r requirements.txt (line 82)) (0.5.1)\n",
      "Requirement already satisfied: websocket-client==1.4.2 in ./venv/lib/python3.10/site-packages (from -r requirements.txt (line 83)) (1.4.2)\n",
      "Note: you may need to restart the kernel to use updated packages.\n"
     ]
    }
   ],
   "source": [
    "pip install -r requirements.txt"
   ]
  },
  {
   "attachments": {},
   "cell_type": "markdown",
   "metadata": {},
   "source": [
    "## Import Pandas"
   ]
  },
  {
   "cell_type": "code",
   "execution_count": 2,
   "metadata": {},
   "outputs": [],
   "source": [
    "import pandas as pd"
   ]
  },
  {
   "attachments": {},
   "cell_type": "markdown",
   "metadata": {},
   "source": [
    "## Read CSV of universities rankings"
   ]
  },
  {
   "cell_type": "code",
   "execution_count": 3,
   "metadata": {},
   "outputs": [],
   "source": [
    "ds = pd.read_csv('datasets/universites_rankings.csv')"
   ]
  },
  {
   "attachments": {},
   "cell_type": "markdown",
   "metadata": {},
   "source": [
    "## Read first 5 rows of dataframe / dataset"
   ]
  },
  {
   "cell_type": "code",
   "execution_count": 4,
   "metadata": {},
   "outputs": [
    {
     "data": {
      "text/html": [
       "<div>\n",
       "<style scoped>\n",
       "    .dataframe tbody tr th:only-of-type {\n",
       "        vertical-align: middle;\n",
       "    }\n",
       "\n",
       "    .dataframe tbody tr th {\n",
       "        vertical-align: top;\n",
       "    }\n",
       "\n",
       "    .dataframe thead th {\n",
       "        text-align: right;\n",
       "    }\n",
       "</style>\n",
       "<table border=\"1\" class=\"dataframe\">\n",
       "  <thead>\n",
       "    <tr style=\"text-align: right;\">\n",
       "      <th></th>\n",
       "      <th>Year</th>\n",
       "      <th>Rank</th>\n",
       "      <th>Name</th>\n",
       "      <th>Point</th>\n",
       "      <th>City</th>\n",
       "      <th>Country</th>\n",
       "    </tr>\n",
       "  </thead>\n",
       "  <tbody>\n",
       "    <tr>\n",
       "      <th>0</th>\n",
       "      <td>2018</td>\n",
       "      <td>1</td>\n",
       "      <td>Harvard University</td>\n",
       "      <td>97.7</td>\n",
       "      <td>Cambridge</td>\n",
       "      <td>United States</td>\n",
       "    </tr>\n",
       "    <tr>\n",
       "      <th>1</th>\n",
       "      <td>2018</td>\n",
       "      <td>2</td>\n",
       "      <td>University of Cambridge</td>\n",
       "      <td>94.6</td>\n",
       "      <td>Cambridge</td>\n",
       "      <td>United Kingdom</td>\n",
       "    </tr>\n",
       "    <tr>\n",
       "      <th>2</th>\n",
       "      <td>2018</td>\n",
       "      <td>2</td>\n",
       "      <td>University of Oxford</td>\n",
       "      <td>94.6</td>\n",
       "      <td>Oxford</td>\n",
       "      <td>United Kingdom</td>\n",
       "    </tr>\n",
       "    <tr>\n",
       "      <th>3</th>\n",
       "      <td>2018</td>\n",
       "      <td>4</td>\n",
       "      <td>Massachusetts Institute of Technology (MIT)</td>\n",
       "      <td>92.5</td>\n",
       "      <td>Cambridge</td>\n",
       "      <td>United States</td>\n",
       "    </tr>\n",
       "    <tr>\n",
       "      <th>4</th>\n",
       "      <td>2018</td>\n",
       "      <td>5</td>\n",
       "      <td>Johns Hopkins University</td>\n",
       "      <td>92.1</td>\n",
       "      <td>Baltimore</td>\n",
       "      <td>United States</td>\n",
       "    </tr>\n",
       "  </tbody>\n",
       "</table>\n",
       "</div>"
      ],
      "text/plain": [
       "   Year  Rank                                         Name  Point       City  \\\n",
       "0  2018     1                           Harvard University   97.7  Cambridge   \n",
       "1  2018     2                      University of Cambridge   94.6  Cambridge   \n",
       "2  2018     2                         University of Oxford   94.6     Oxford   \n",
       "3  2018     4  Massachusetts Institute of Technology (MIT)   92.5  Cambridge   \n",
       "4  2018     5                     Johns Hopkins University   92.1  Baltimore   \n",
       "\n",
       "           Country  \n",
       "0    United States  \n",
       "1   United Kingdom  \n",
       "2   United Kingdom  \n",
       "3    United States  \n",
       "4    United States  "
      ]
     },
     "execution_count": 4,
     "metadata": {},
     "output_type": "execute_result"
    }
   ],
   "source": [
    "ds.head()"
   ]
  },
  {
   "attachments": {},
   "cell_type": "markdown",
   "metadata": {},
   "source": [
    "## Read last 5 rows of dataframe / dataset"
   ]
  },
  {
   "cell_type": "code",
   "execution_count": 5,
   "metadata": {},
   "outputs": [
    {
     "data": {
      "text/html": [
       "<div>\n",
       "<style scoped>\n",
       "    .dataframe tbody tr th:only-of-type {\n",
       "        vertical-align: middle;\n",
       "    }\n",
       "\n",
       "    .dataframe tbody tr th {\n",
       "        vertical-align: top;\n",
       "    }\n",
       "\n",
       "    .dataframe thead th {\n",
       "        text-align: right;\n",
       "    }\n",
       "</style>\n",
       "<table border=\"1\" class=\"dataframe\">\n",
       "  <thead>\n",
       "    <tr style=\"text-align: right;\">\n",
       "      <th></th>\n",
       "      <th>Year</th>\n",
       "      <th>Rank</th>\n",
       "      <th>Name</th>\n",
       "      <th>Point</th>\n",
       "      <th>City</th>\n",
       "      <th>Country</th>\n",
       "    </tr>\n",
       "  </thead>\n",
       "  <tbody>\n",
       "    <tr>\n",
       "      <th>5245</th>\n",
       "      <td>2022</td>\n",
       "      <td>346</td>\n",
       "      <td>National Cheng Kung University (NCKU)</td>\n",
       "      <td>60.7</td>\n",
       "      <td>Tainan City</td>\n",
       "      <td>Taiwan</td>\n",
       "    </tr>\n",
       "    <tr>\n",
       "      <th>5246</th>\n",
       "      <td>2022</td>\n",
       "      <td>346</td>\n",
       "      <td>University of New Mexico</td>\n",
       "      <td>60.7</td>\n",
       "      <td>Albuquerque</td>\n",
       "      <td>United States</td>\n",
       "    </tr>\n",
       "    <tr>\n",
       "      <th>5247</th>\n",
       "      <td>2022</td>\n",
       "      <td>348</td>\n",
       "      <td>Universitas Indonesia</td>\n",
       "      <td>60.6</td>\n",
       "      <td>Depok</td>\n",
       "      <td>Indonesia</td>\n",
       "    </tr>\n",
       "    <tr>\n",
       "      <th>5248</th>\n",
       "      <td>2022</td>\n",
       "      <td>349</td>\n",
       "      <td>Aga Khan University</td>\n",
       "      <td>60.5</td>\n",
       "      <td>Karachi</td>\n",
       "      <td>Pakistan</td>\n",
       "    </tr>\n",
       "    <tr>\n",
       "      <th>5249</th>\n",
       "      <td>2022</td>\n",
       "      <td>349</td>\n",
       "      <td>Northeastern University</td>\n",
       "      <td>60.5</td>\n",
       "      <td>Boston</td>\n",
       "      <td>United States</td>\n",
       "    </tr>\n",
       "  </tbody>\n",
       "</table>\n",
       "</div>"
      ],
      "text/plain": [
       "      Year  Rank                                   Name  Point         City  \\\n",
       "5245  2022   346  National Cheng Kung University (NCKU)   60.7  Tainan City   \n",
       "5246  2022   346               University of New Mexico   60.7  Albuquerque   \n",
       "5247  2022   348                  Universitas Indonesia   60.6        Depok   \n",
       "5248  2022   349                    Aga Khan University   60.5      Karachi   \n",
       "5249  2022   349                Northeastern University   60.5       Boston   \n",
       "\n",
       "             Country  \n",
       "5245          Taiwan  \n",
       "5246   United States  \n",
       "5247       Indonesia  \n",
       "5248        Pakistan  \n",
       "5249   United States  "
      ]
     },
     "execution_count": 5,
     "metadata": {},
     "output_type": "execute_result"
    }
   ],
   "source": [
    "ds.tail()"
   ]
  },
  {
   "attachments": {},
   "cell_type": "markdown",
   "metadata": {},
   "source": [
    "## Create own dataset"
   ]
  },
  {
   "cell_type": "code",
   "execution_count": 6,
   "metadata": {},
   "outputs": [],
   "source": [
    "cdf = pd.DataFrame({\n",
    "    'id': [1, 2, 3, 4, 5],\n",
    "    'name': ['Haroon Mahmood', 'Madiha Hussain', 'Ali', 'Noor', 'Alex'],\n",
    "    'profession': ['Software Engineer', 'Future Doctor', 'Wordpress Developer', 'SQA Engineer', 'Tiktoker']\n",
    "})"
   ]
  },
  {
   "cell_type": "code",
   "execution_count": 7,
   "metadata": {},
   "outputs": [
    {
     "data": {
      "text/html": [
       "<div>\n",
       "<style scoped>\n",
       "    .dataframe tbody tr th:only-of-type {\n",
       "        vertical-align: middle;\n",
       "    }\n",
       "\n",
       "    .dataframe tbody tr th {\n",
       "        vertical-align: top;\n",
       "    }\n",
       "\n",
       "    .dataframe thead th {\n",
       "        text-align: right;\n",
       "    }\n",
       "</style>\n",
       "<table border=\"1\" class=\"dataframe\">\n",
       "  <thead>\n",
       "    <tr style=\"text-align: right;\">\n",
       "      <th></th>\n",
       "      <th>id</th>\n",
       "      <th>name</th>\n",
       "      <th>profession</th>\n",
       "    </tr>\n",
       "  </thead>\n",
       "  <tbody>\n",
       "    <tr>\n",
       "      <th>0</th>\n",
       "      <td>1</td>\n",
       "      <td>Haroon Mahmood</td>\n",
       "      <td>Software Engineer</td>\n",
       "    </tr>\n",
       "    <tr>\n",
       "      <th>1</th>\n",
       "      <td>2</td>\n",
       "      <td>Madiha Hussain</td>\n",
       "      <td>Future Doctor</td>\n",
       "    </tr>\n",
       "    <tr>\n",
       "      <th>2</th>\n",
       "      <td>3</td>\n",
       "      <td>Ali</td>\n",
       "      <td>Wordpress Developer</td>\n",
       "    </tr>\n",
       "    <tr>\n",
       "      <th>3</th>\n",
       "      <td>4</td>\n",
       "      <td>Noor</td>\n",
       "      <td>SQA Engineer</td>\n",
       "    </tr>\n",
       "    <tr>\n",
       "      <th>4</th>\n",
       "      <td>5</td>\n",
       "      <td>Alex</td>\n",
       "      <td>Tiktoker</td>\n",
       "    </tr>\n",
       "  </tbody>\n",
       "</table>\n",
       "</div>"
      ],
      "text/plain": [
       "   id            name           profession\n",
       "0   1  Haroon Mahmood    Software Engineer\n",
       "1   2  Madiha Hussain        Future Doctor\n",
       "2   3             Ali  Wordpress Developer\n",
       "3   4            Noor         SQA Engineer\n",
       "4   5            Alex             Tiktoker"
      ]
     },
     "execution_count": 7,
     "metadata": {},
     "output_type": "execute_result"
    }
   ],
   "source": [
    "cdf.head()"
   ]
  },
  {
   "attachments": {},
   "cell_type": "markdown",
   "metadata": {},
   "source": [
    "## Describe dataset like count, mean, std, etc"
   ]
  },
  {
   "cell_type": "code",
   "execution_count": 8,
   "metadata": {},
   "outputs": [
    {
     "data": {
      "text/html": [
       "<div>\n",
       "<style scoped>\n",
       "    .dataframe tbody tr th:only-of-type {\n",
       "        vertical-align: middle;\n",
       "    }\n",
       "\n",
       "    .dataframe tbody tr th {\n",
       "        vertical-align: top;\n",
       "    }\n",
       "\n",
       "    .dataframe thead th {\n",
       "        text-align: right;\n",
       "    }\n",
       "</style>\n",
       "<table border=\"1\" class=\"dataframe\">\n",
       "  <thead>\n",
       "    <tr style=\"text-align: right;\">\n",
       "      <th></th>\n",
       "      <th>Year</th>\n",
       "      <th>Rank</th>\n",
       "      <th>Point</th>\n",
       "    </tr>\n",
       "  </thead>\n",
       "  <tbody>\n",
       "    <tr>\n",
       "      <th>count</th>\n",
       "      <td>5250.000000</td>\n",
       "      <td>5250.000000</td>\n",
       "      <td>5030.000000</td>\n",
       "    </tr>\n",
       "    <tr>\n",
       "      <th>mean</th>\n",
       "      <td>2020.666667</td>\n",
       "      <td>174.803429</td>\n",
       "      <td>70.840040</td>\n",
       "    </tr>\n",
       "    <tr>\n",
       "      <th>std</th>\n",
       "      <td>1.247338</td>\n",
       "      <td>100.807265</td>\n",
       "      <td>8.128413</td>\n",
       "    </tr>\n",
       "    <tr>\n",
       "      <th>min</th>\n",
       "      <td>2018.000000</td>\n",
       "      <td>1.000000</td>\n",
       "      <td>57.500000</td>\n",
       "    </tr>\n",
       "    <tr>\n",
       "      <th>25%</th>\n",
       "      <td>2020.000000</td>\n",
       "      <td>88.000000</td>\n",
       "      <td>64.500000</td>\n",
       "    </tr>\n",
       "    <tr>\n",
       "      <th>50%</th>\n",
       "      <td>2021.000000</td>\n",
       "      <td>175.000000</td>\n",
       "      <td>69.100000</td>\n",
       "    </tr>\n",
       "    <tr>\n",
       "      <th>75%</th>\n",
       "      <td>2022.000000</td>\n",
       "      <td>262.000000</td>\n",
       "      <td>76.000000</td>\n",
       "    </tr>\n",
       "    <tr>\n",
       "      <th>max</th>\n",
       "      <td>2022.000000</td>\n",
       "      <td>350.000000</td>\n",
       "      <td>99.000000</td>\n",
       "    </tr>\n",
       "  </tbody>\n",
       "</table>\n",
       "</div>"
      ],
      "text/plain": [
       "              Year         Rank        Point\n",
       "count  5250.000000  5250.000000  5030.000000\n",
       "mean   2020.666667   174.803429    70.840040\n",
       "std       1.247338   100.807265     8.128413\n",
       "min    2018.000000     1.000000    57.500000\n",
       "25%    2020.000000    88.000000    64.500000\n",
       "50%    2021.000000   175.000000    69.100000\n",
       "75%    2022.000000   262.000000    76.000000\n",
       "max    2022.000000   350.000000    99.000000"
      ]
     },
     "execution_count": 8,
     "metadata": {},
     "output_type": "execute_result"
    }
   ],
   "source": [
    "ds.describe()"
   ]
  },
  {
   "cell_type": "code",
   "execution_count": 9,
   "metadata": {},
   "outputs": [
    {
     "data": {
      "text/plain": [
       "count    5250.000000\n",
       "mean     2020.666667\n",
       "std         1.247338\n",
       "min      2018.000000\n",
       "25%      2020.000000\n",
       "50%      2021.000000\n",
       "75%      2022.000000\n",
       "max      2022.000000\n",
       "Name: Year, dtype: float64"
      ]
     },
     "execution_count": 9,
     "metadata": {},
     "output_type": "execute_result"
    }
   ],
   "source": [
    "ds.Year.describe()"
   ]
  },
  {
   "attachments": {},
   "cell_type": "markdown",
   "metadata": {},
   "source": [
    "## Find unique values from dataset for specific column "
   ]
  },
  {
   "cell_type": "code",
   "execution_count": 10,
   "metadata": {},
   "outputs": [
    {
     "data": {
      "text/plain": [
       "array([2018, 2019, 2020, 2021, 2022])"
      ]
     },
     "execution_count": 10,
     "metadata": {},
     "output_type": "execute_result"
    }
   ],
   "source": [
    "ds.Year.unique()"
   ]
  },
  {
   "cell_type": "code",
   "execution_count": 11,
   "metadata": {},
   "outputs": [
    {
     "data": {
      "text/plain": [
       "dtype('int64')"
      ]
     },
     "execution_count": 11,
     "metadata": {},
     "output_type": "execute_result"
    }
   ],
   "source": [
    "ds.Year.dtype"
   ]
  },
  {
   "cell_type": "code",
   "execution_count": 12,
   "metadata": {},
   "outputs": [
    {
     "data": {
      "text/plain": [
       "Year         int64\n",
       "Rank         int64\n",
       "Name        object\n",
       "Point      float64\n",
       "City        object\n",
       "Country     object\n",
       "dtype: object"
      ]
     },
     "execution_count": 12,
     "metadata": {},
     "output_type": "execute_result"
    }
   ],
   "source": [
    "ds.dtypes"
   ]
  },
  {
   "attachments": {},
   "cell_type": "markdown",
   "metadata": {},
   "source": [
    "## Find Missing / Null Values from Dataframe"
   ]
  },
  {
   "cell_type": "code",
   "execution_count": 13,
   "metadata": {},
   "outputs": [
    {
     "data": {
      "text/plain": [
       "Year         0\n",
       "Rank         0\n",
       "Name         0\n",
       "Point      220\n",
       "City         0\n",
       "Country      1\n",
       "dtype: int64"
      ]
     },
     "execution_count": 13,
     "metadata": {},
     "output_type": "execute_result"
    }
   ],
   "source": [
    "ds.isnull().sum()"
   ]
  },
  {
   "attachments": {},
   "cell_type": "markdown",
   "metadata": {},
   "source": [
    "### Drop null values column wise"
   ]
  },
  {
   "cell_type": "code",
   "execution_count": 77,
   "metadata": {},
   "outputs": [
    {
     "data": {
      "text/plain": [
       "Year    0\n",
       "Rank    0\n",
       "Name    0\n",
       "City    0\n",
       "dtype: int64"
      ]
     },
     "execution_count": 77,
     "metadata": {},
     "output_type": "execute_result"
    }
   ],
   "source": [
    "ds.dropna(inplace=True, axis=1)\n",
    "ds.isnull().sum()"
   ]
  },
  {
   "attachments": {},
   "cell_type": "markdown",
   "metadata": {},
   "source": [
    "### Drop null values row wise"
   ]
  },
  {
   "cell_type": "code",
   "execution_count": 14,
   "metadata": {},
   "outputs": [
    {
     "data": {
      "text/plain": [
       "Year       0\n",
       "Rank       0\n",
       "Name       0\n",
       "Point      0\n",
       "City       0\n",
       "Country    0\n",
       "dtype: int64"
      ]
     },
     "execution_count": 14,
     "metadata": {},
     "output_type": "execute_result"
    }
   ],
   "source": [
    "ds.dropna(inplace=True, axis=0)\n",
    "ds.isnull().sum()"
   ]
  },
  {
   "cell_type": "code",
   "execution_count": 15,
   "metadata": {},
   "outputs": [
    {
     "data": {
      "text/html": [
       "<div>\n",
       "<style scoped>\n",
       "    .dataframe tbody tr th:only-of-type {\n",
       "        vertical-align: middle;\n",
       "    }\n",
       "\n",
       "    .dataframe tbody tr th {\n",
       "        vertical-align: top;\n",
       "    }\n",
       "\n",
       "    .dataframe thead th {\n",
       "        text-align: right;\n",
       "    }\n",
       "</style>\n",
       "<table border=\"1\" class=\"dataframe\">\n",
       "  <thead>\n",
       "    <tr style=\"text-align: right;\">\n",
       "      <th></th>\n",
       "      <th>Year</th>\n",
       "      <th>Rank</th>\n",
       "      <th>Name</th>\n",
       "      <th>Point</th>\n",
       "      <th>City</th>\n",
       "      <th>Country</th>\n",
       "    </tr>\n",
       "  </thead>\n",
       "  <tbody>\n",
       "    <tr>\n",
       "      <th>0</th>\n",
       "      <td>2018</td>\n",
       "      <td>1</td>\n",
       "      <td>Harvard University</td>\n",
       "      <td>97.7</td>\n",
       "      <td>Cambridge</td>\n",
       "      <td>United States</td>\n",
       "    </tr>\n",
       "    <tr>\n",
       "      <th>1</th>\n",
       "      <td>2018</td>\n",
       "      <td>2</td>\n",
       "      <td>University of Cambridge</td>\n",
       "      <td>94.6</td>\n",
       "      <td>Cambridge</td>\n",
       "      <td>United Kingdom</td>\n",
       "    </tr>\n",
       "    <tr>\n",
       "      <th>2</th>\n",
       "      <td>2018</td>\n",
       "      <td>2</td>\n",
       "      <td>University of Oxford</td>\n",
       "      <td>94.6</td>\n",
       "      <td>Oxford</td>\n",
       "      <td>United Kingdom</td>\n",
       "    </tr>\n",
       "    <tr>\n",
       "      <th>3</th>\n",
       "      <td>2018</td>\n",
       "      <td>4</td>\n",
       "      <td>Massachusetts Institute of Technology (MIT)</td>\n",
       "      <td>92.5</td>\n",
       "      <td>Cambridge</td>\n",
       "      <td>United States</td>\n",
       "    </tr>\n",
       "    <tr>\n",
       "      <th>4</th>\n",
       "      <td>2018</td>\n",
       "      <td>5</td>\n",
       "      <td>Johns Hopkins University</td>\n",
       "      <td>92.1</td>\n",
       "      <td>Baltimore</td>\n",
       "      <td>United States</td>\n",
       "    </tr>\n",
       "  </tbody>\n",
       "</table>\n",
       "</div>"
      ],
      "text/plain": [
       "   Year  Rank                                         Name  Point       City  \\\n",
       "0  2018     1                           Harvard University   97.7  Cambridge   \n",
       "1  2018     2                      University of Cambridge   94.6  Cambridge   \n",
       "2  2018     2                         University of Oxford   94.6     Oxford   \n",
       "3  2018     4  Massachusetts Institute of Technology (MIT)   92.5  Cambridge   \n",
       "4  2018     5                     Johns Hopkins University   92.1  Baltimore   \n",
       "\n",
       "           Country  \n",
       "0    United States  \n",
       "1   United Kingdom  \n",
       "2   United Kingdom  \n",
       "3    United States  \n",
       "4    United States  "
      ]
     },
     "execution_count": 15,
     "metadata": {},
     "output_type": "execute_result"
    }
   ],
   "source": [
    "ds.head()"
   ]
  },
  {
   "cell_type": "code",
   "execution_count": 16,
   "metadata": {},
   "outputs": [
    {
     "data": {
      "text/plain": [
       "(5029, 6)"
      ]
     },
     "execution_count": 16,
     "metadata": {},
     "output_type": "execute_result"
    }
   ],
   "source": [
    "ds.shape"
   ]
  },
  {
   "attachments": {},
   "cell_type": "markdown",
   "metadata": {},
   "source": [
    "### Fill the null values with something"
   ]
  },
  {
   "cell_type": "code",
   "execution_count": 17,
   "metadata": {},
   "outputs": [],
   "source": [
    "ds.fillna(0, inplace=True)"
   ]
  },
  {
   "cell_type": "code",
   "execution_count": 18,
   "metadata": {},
   "outputs": [
    {
     "data": {
      "text/plain": [
       "Index(['Year', 'Rank', 'Name', 'Point', 'City', 'Country'], dtype='object')"
      ]
     },
     "execution_count": 18,
     "metadata": {},
     "output_type": "execute_result"
    }
   ],
   "source": [
    "ds.columns"
   ]
  },
  {
   "attachments": {},
   "cell_type": "markdown",
   "metadata": {},
   "source": [
    "## Pandas Indexing"
   ]
  },
  {
   "cell_type": "code",
   "execution_count": 20,
   "metadata": {},
   "outputs": [
    {
     "data": {
      "text/html": [
       "<div>\n",
       "<style scoped>\n",
       "    .dataframe tbody tr th:only-of-type {\n",
       "        vertical-align: middle;\n",
       "    }\n",
       "\n",
       "    .dataframe tbody tr th {\n",
       "        vertical-align: top;\n",
       "    }\n",
       "\n",
       "    .dataframe thead th {\n",
       "        text-align: right;\n",
       "    }\n",
       "</style>\n",
       "<table border=\"1\" class=\"dataframe\">\n",
       "  <thead>\n",
       "    <tr style=\"text-align: right;\">\n",
       "      <th></th>\n",
       "      <th>Year</th>\n",
       "    </tr>\n",
       "  </thead>\n",
       "  <tbody>\n",
       "    <tr>\n",
       "      <th>0</th>\n",
       "      <td>2018</td>\n",
       "    </tr>\n",
       "    <tr>\n",
       "      <th>1</th>\n",
       "      <td>2018</td>\n",
       "    </tr>\n",
       "    <tr>\n",
       "      <th>2</th>\n",
       "      <td>2018</td>\n",
       "    </tr>\n",
       "    <tr>\n",
       "      <th>3</th>\n",
       "      <td>2018</td>\n",
       "    </tr>\n",
       "    <tr>\n",
       "      <th>4</th>\n",
       "      <td>2018</td>\n",
       "    </tr>\n",
       "  </tbody>\n",
       "</table>\n",
       "</div>"
      ],
      "text/plain": [
       "   Year\n",
       "0  2018\n",
       "1  2018\n",
       "2  2018\n",
       "3  2018\n",
       "4  2018"
      ]
     },
     "execution_count": 20,
     "metadata": {},
     "output_type": "execute_result"
    }
   ],
   "source": [
    "ds[['Year']].head()"
   ]
  },
  {
   "cell_type": "code",
   "execution_count": 21,
   "metadata": {},
   "outputs": [
    {
     "data": {
      "text/html": [
       "<div>\n",
       "<style scoped>\n",
       "    .dataframe tbody tr th:only-of-type {\n",
       "        vertical-align: middle;\n",
       "    }\n",
       "\n",
       "    .dataframe tbody tr th {\n",
       "        vertical-align: top;\n",
       "    }\n",
       "\n",
       "    .dataframe thead th {\n",
       "        text-align: right;\n",
       "    }\n",
       "</style>\n",
       "<table border=\"1\" class=\"dataframe\">\n",
       "  <thead>\n",
       "    <tr style=\"text-align: right;\">\n",
       "      <th></th>\n",
       "      <th>Year</th>\n",
       "      <th>Rank</th>\n",
       "      <th>Name</th>\n",
       "    </tr>\n",
       "  </thead>\n",
       "  <tbody>\n",
       "    <tr>\n",
       "      <th>0</th>\n",
       "      <td>2018</td>\n",
       "      <td>1</td>\n",
       "      <td>Harvard University</td>\n",
       "    </tr>\n",
       "    <tr>\n",
       "      <th>1</th>\n",
       "      <td>2018</td>\n",
       "      <td>2</td>\n",
       "      <td>University of Cambridge</td>\n",
       "    </tr>\n",
       "    <tr>\n",
       "      <th>2</th>\n",
       "      <td>2018</td>\n",
       "      <td>2</td>\n",
       "      <td>University of Oxford</td>\n",
       "    </tr>\n",
       "    <tr>\n",
       "      <th>3</th>\n",
       "      <td>2018</td>\n",
       "      <td>4</td>\n",
       "      <td>Massachusetts Institute of Technology (MIT)</td>\n",
       "    </tr>\n",
       "    <tr>\n",
       "      <th>4</th>\n",
       "      <td>2018</td>\n",
       "      <td>5</td>\n",
       "      <td>Johns Hopkins University</td>\n",
       "    </tr>\n",
       "    <tr>\n",
       "      <th>...</th>\n",
       "      <td>...</td>\n",
       "      <td>...</td>\n",
       "      <td>...</td>\n",
       "    </tr>\n",
       "    <tr>\n",
       "      <th>5245</th>\n",
       "      <td>2022</td>\n",
       "      <td>346</td>\n",
       "      <td>National Cheng Kung University (NCKU)</td>\n",
       "    </tr>\n",
       "    <tr>\n",
       "      <th>5246</th>\n",
       "      <td>2022</td>\n",
       "      <td>346</td>\n",
       "      <td>University of New Mexico</td>\n",
       "    </tr>\n",
       "    <tr>\n",
       "      <th>5247</th>\n",
       "      <td>2022</td>\n",
       "      <td>348</td>\n",
       "      <td>Universitas Indonesia</td>\n",
       "    </tr>\n",
       "    <tr>\n",
       "      <th>5248</th>\n",
       "      <td>2022</td>\n",
       "      <td>349</td>\n",
       "      <td>Aga Khan University</td>\n",
       "    </tr>\n",
       "    <tr>\n",
       "      <th>5249</th>\n",
       "      <td>2022</td>\n",
       "      <td>349</td>\n",
       "      <td>Northeastern University</td>\n",
       "    </tr>\n",
       "  </tbody>\n",
       "</table>\n",
       "<p>5029 rows × 3 columns</p>\n",
       "</div>"
      ],
      "text/plain": [
       "      Year  Rank                                         Name\n",
       "0     2018     1                           Harvard University\n",
       "1     2018     2                      University of Cambridge\n",
       "2     2018     2                         University of Oxford\n",
       "3     2018     4  Massachusetts Institute of Technology (MIT)\n",
       "4     2018     5                     Johns Hopkins University\n",
       "...    ...   ...                                          ...\n",
       "5245  2022   346        National Cheng Kung University (NCKU)\n",
       "5246  2022   346                     University of New Mexico\n",
       "5247  2022   348                        Universitas Indonesia\n",
       "5248  2022   349                          Aga Khan University\n",
       "5249  2022   349                      Northeastern University\n",
       "\n",
       "[5029 rows x 3 columns]"
      ]
     },
     "execution_count": 21,
     "metadata": {},
     "output_type": "execute_result"
    }
   ],
   "source": [
    "ds[['Year', 'Rank', 'Name']]"
   ]
  },
  {
   "cell_type": "code",
   "execution_count": 24,
   "metadata": {},
   "outputs": [
    {
     "data": {
      "text/html": [
       "<div>\n",
       "<style scoped>\n",
       "    .dataframe tbody tr th:only-of-type {\n",
       "        vertical-align: middle;\n",
       "    }\n",
       "\n",
       "    .dataframe tbody tr th {\n",
       "        vertical-align: top;\n",
       "    }\n",
       "\n",
       "    .dataframe thead th {\n",
       "        text-align: right;\n",
       "    }\n",
       "</style>\n",
       "<table border=\"1\" class=\"dataframe\">\n",
       "  <thead>\n",
       "    <tr style=\"text-align: right;\">\n",
       "      <th></th>\n",
       "      <th>Year</th>\n",
       "      <th>Rank</th>\n",
       "      <th>Name</th>\n",
       "      <th>Point</th>\n",
       "      <th>City</th>\n",
       "      <th>Country</th>\n",
       "    </tr>\n",
       "  </thead>\n",
       "  <tbody>\n",
       "    <tr>\n",
       "      <th>579</th>\n",
       "      <td>2019</td>\n",
       "      <td>229</td>\n",
       "      <td>University of Naples - Federico II</td>\n",
       "      <td>64.5</td>\n",
       "      <td>Naples</td>\n",
       "      <td>Italy</td>\n",
       "    </tr>\n",
       "    <tr>\n",
       "      <th>580</th>\n",
       "      <td>2019</td>\n",
       "      <td>231</td>\n",
       "      <td>Tel Aviv University</td>\n",
       "      <td>64.4</td>\n",
       "      <td>Tel Aviv</td>\n",
       "      <td>Israel</td>\n",
       "    </tr>\n",
       "    <tr>\n",
       "      <th>581</th>\n",
       "      <td>2019</td>\n",
       "      <td>231</td>\n",
       "      <td>University at Buffalo SUNY</td>\n",
       "      <td>64.4</td>\n",
       "      <td>Buffalo</td>\n",
       "      <td>United States</td>\n",
       "    </tr>\n",
       "    <tr>\n",
       "      <th>582</th>\n",
       "      <td>2019</td>\n",
       "      <td>233</td>\n",
       "      <td>The University of Warwick</td>\n",
       "      <td>64.3</td>\n",
       "      <td>Coventry</td>\n",
       "      <td>United Kingdom</td>\n",
       "    </tr>\n",
       "    <tr>\n",
       "      <th>583</th>\n",
       "      <td>2019</td>\n",
       "      <td>234</td>\n",
       "      <td>Universiti Sains Malaysia (USM)</td>\n",
       "      <td>64.1</td>\n",
       "      <td>Gelugor</td>\n",
       "      <td>Malaysia</td>\n",
       "    </tr>\n",
       "    <tr>\n",
       "      <th>...</th>\n",
       "      <td>...</td>\n",
       "      <td>...</td>\n",
       "      <td>...</td>\n",
       "      <td>...</td>\n",
       "      <td>...</td>\n",
       "      <td>...</td>\n",
       "    </tr>\n",
       "    <tr>\n",
       "      <th>5245</th>\n",
       "      <td>2022</td>\n",
       "      <td>346</td>\n",
       "      <td>National Cheng Kung University (NCKU)</td>\n",
       "      <td>60.7</td>\n",
       "      <td>Tainan City</td>\n",
       "      <td>Taiwan</td>\n",
       "    </tr>\n",
       "    <tr>\n",
       "      <th>5246</th>\n",
       "      <td>2022</td>\n",
       "      <td>346</td>\n",
       "      <td>University of New Mexico</td>\n",
       "      <td>60.7</td>\n",
       "      <td>Albuquerque</td>\n",
       "      <td>United States</td>\n",
       "    </tr>\n",
       "    <tr>\n",
       "      <th>5247</th>\n",
       "      <td>2022</td>\n",
       "      <td>348</td>\n",
       "      <td>Universitas Indonesia</td>\n",
       "      <td>60.6</td>\n",
       "      <td>Depok</td>\n",
       "      <td>Indonesia</td>\n",
       "    </tr>\n",
       "    <tr>\n",
       "      <th>5248</th>\n",
       "      <td>2022</td>\n",
       "      <td>349</td>\n",
       "      <td>Aga Khan University</td>\n",
       "      <td>60.5</td>\n",
       "      <td>Karachi</td>\n",
       "      <td>Pakistan</td>\n",
       "    </tr>\n",
       "    <tr>\n",
       "      <th>5249</th>\n",
       "      <td>2022</td>\n",
       "      <td>349</td>\n",
       "      <td>Northeastern University</td>\n",
       "      <td>60.5</td>\n",
       "      <td>Boston</td>\n",
       "      <td>United States</td>\n",
       "    </tr>\n",
       "  </tbody>\n",
       "</table>\n",
       "<p>4474 rows × 6 columns</p>\n",
       "</div>"
      ],
      "text/plain": [
       "      Year  Rank                                   Name  Point         City  \\\n",
       "579   2019   229     University of Naples - Federico II   64.5       Naples   \n",
       "580   2019   231                    Tel Aviv University   64.4     Tel Aviv   \n",
       "581   2019   231             University at Buffalo SUNY   64.4      Buffalo   \n",
       "582   2019   233              The University of Warwick   64.3     Coventry   \n",
       "583   2019   234        Universiti Sains Malaysia (USM)   64.1      Gelugor   \n",
       "...    ...   ...                                    ...    ...          ...   \n",
       "5245  2022   346  National Cheng Kung University (NCKU)   60.7  Tainan City   \n",
       "5246  2022   346               University of New Mexico   60.7  Albuquerque   \n",
       "5247  2022   348                  Universitas Indonesia   60.6        Depok   \n",
       "5248  2022   349                    Aga Khan University   60.5      Karachi   \n",
       "5249  2022   349                Northeastern University   60.5       Boston   \n",
       "\n",
       "              Country  \n",
       "579             Italy  \n",
       "580            Israel  \n",
       "581     United States  \n",
       "582    United Kingdom  \n",
       "583          Malaysia  \n",
       "...               ...  \n",
       "5245           Taiwan  \n",
       "5246    United States  \n",
       "5247        Indonesia  \n",
       "5248         Pakistan  \n",
       "5249    United States  \n",
       "\n",
       "[4474 rows x 6 columns]"
      ]
     },
     "execution_count": 24,
     "metadata": {},
     "output_type": "execute_result"
    }
   ],
   "source": [
    "ds.iloc[555:]"
   ]
  },
  {
   "cell_type": "code",
   "execution_count": 27,
   "metadata": {},
   "outputs": [
    {
     "data": {
      "text/plain": [
       "Year       0\n",
       "Rank       0\n",
       "Name       0\n",
       "Point      0\n",
       "City       0\n",
       "Country    0\n",
       "dtype: int64"
      ]
     },
     "execution_count": 27,
     "metadata": {},
     "output_type": "execute_result"
    }
   ],
   "source": [
    "ds.loc[ds['City'] == 'Lahore'].count()"
   ]
  },
  {
   "cell_type": "code",
   "execution_count": null,
   "metadata": {},
   "outputs": [],
   "source": []
  }
 ],
 "metadata": {
  "kernelspec": {
   "display_name": "venv",
   "language": "python",
   "name": "python3"
  },
  "language_info": {
   "codemirror_mode": {
    "name": "ipython",
    "version": 3
   },
   "file_extension": ".py",
   "mimetype": "text/x-python",
   "name": "python",
   "nbconvert_exporter": "python",
   "pygments_lexer": "ipython3",
   "version": "3.10.6 (main, Nov 14 2022, 16:10:14) [GCC 11.3.0]"
  },
  "orig_nbformat": 4,
  "vscode": {
   "interpreter": {
    "hash": "1e0c698051b21bfdeb803ae7a60794cf1d5cfa15e417786d6dc0ab4fc7ea65f2"
   }
  }
 },
 "nbformat": 4,
 "nbformat_minor": 2
}
