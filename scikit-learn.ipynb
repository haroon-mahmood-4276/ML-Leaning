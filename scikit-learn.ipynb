{
 "cells": [
  {
   "cell_type": "code",
   "execution_count": 1,
   "metadata": {},
   "outputs": [
    {
     "name": "stdout",
     "output_type": "stream",
     "text": [
      "Requirement already satisfied: anyio==3.6.2 in ./venv/lib/python3.10/site-packages (from -r requirements.txt (line 1)) (3.6.2)\n",
      "Requirement already satisfied: argon2-cffi==21.3.0 in ./venv/lib/python3.10/site-packages (from -r requirements.txt (line 2)) (21.3.0)\n",
      "Requirement already satisfied: argon2-cffi-bindings==21.2.0 in ./venv/lib/python3.10/site-packages (from -r requirements.txt (line 3)) (21.2.0)\n",
      "Requirement already satisfied: arrow==1.2.3 in ./venv/lib/python3.10/site-packages (from -r requirements.txt (line 4)) (1.2.3)\n",
      "Requirement already satisfied: asttokens==2.2.1 in ./venv/lib/python3.10/site-packages (from -r requirements.txt (line 5)) (2.2.1)\n",
      "Requirement already satisfied: attrs==22.2.0 in ./venv/lib/python3.10/site-packages (from -r requirements.txt (line 6)) (22.2.0)\n",
      "Requirement already satisfied: autopep8==2.0.1 in ./venv/lib/python3.10/site-packages (from -r requirements.txt (line 7)) (2.0.1)\n",
      "Requirement already satisfied: backcall==0.2.0 in ./venv/lib/python3.10/site-packages (from -r requirements.txt (line 8)) (0.2.0)\n",
      "Requirement already satisfied: beautifulsoup4==4.11.1 in ./venv/lib/python3.10/site-packages (from -r requirements.txt (line 9)) (4.11.1)\n",
      "Requirement already satisfied: bleach==5.0.1 in ./venv/lib/python3.10/site-packages (from -r requirements.txt (line 10)) (5.0.1)\n",
      "Requirement already satisfied: cffi==1.15.1 in ./venv/lib/python3.10/site-packages (from -r requirements.txt (line 11)) (1.15.1)\n",
      "Requirement already satisfied: comm==0.1.2 in ./venv/lib/python3.10/site-packages (from -r requirements.txt (line 12)) (0.1.2)\n",
      "Requirement already satisfied: debugpy==1.6.5 in ./venv/lib/python3.10/site-packages (from -r requirements.txt (line 13)) (1.6.5)\n",
      "Requirement already satisfied: decorator==5.1.1 in ./venv/lib/python3.10/site-packages (from -r requirements.txt (line 14)) (5.1.1)\n",
      "Requirement already satisfied: defusedxml==0.7.1 in ./venv/lib/python3.10/site-packages (from -r requirements.txt (line 15)) (0.7.1)\n",
      "Requirement already satisfied: entrypoints==0.4 in ./venv/lib/python3.10/site-packages (from -r requirements.txt (line 16)) (0.4)\n",
      "Requirement already satisfied: executing==1.2.0 in ./venv/lib/python3.10/site-packages (from -r requirements.txt (line 17)) (1.2.0)\n",
      "Requirement already satisfied: fastjsonschema==2.16.2 in ./venv/lib/python3.10/site-packages (from -r requirements.txt (line 18)) (2.16.2)\n",
      "Requirement already satisfied: fqdn==1.5.1 in ./venv/lib/python3.10/site-packages (from -r requirements.txt (line 19)) (1.5.1)\n",
      "Requirement already satisfied: idna==3.4 in ./venv/lib/python3.10/site-packages (from -r requirements.txt (line 20)) (3.4)\n",
      "Requirement already satisfied: ipykernel==6.20.1 in ./venv/lib/python3.10/site-packages (from -r requirements.txt (line 21)) (6.20.1)\n",
      "Requirement already satisfied: ipython==8.8.0 in ./venv/lib/python3.10/site-packages (from -r requirements.txt (line 22)) (8.8.0)\n",
      "Requirement already satisfied: ipython-genutils==0.2.0 in ./venv/lib/python3.10/site-packages (from -r requirements.txt (line 23)) (0.2.0)\n",
      "Requirement already satisfied: isoduration==20.11.0 in ./venv/lib/python3.10/site-packages (from -r requirements.txt (line 24)) (20.11.0)\n",
      "Requirement already satisfied: jedi==0.18.2 in ./venv/lib/python3.10/site-packages (from -r requirements.txt (line 25)) (0.18.2)\n",
      "Requirement already satisfied: Jinja2==3.1.2 in ./venv/lib/python3.10/site-packages (from -r requirements.txt (line 26)) (3.1.2)\n",
      "Requirement already satisfied: jsonpointer==2.3 in ./venv/lib/python3.10/site-packages (from -r requirements.txt (line 27)) (2.3)\n",
      "Requirement already satisfied: jsonschema==4.17.3 in ./venv/lib/python3.10/site-packages (from -r requirements.txt (line 28)) (4.17.3)\n",
      "Requirement already satisfied: jupyter-events==0.6.2 in ./venv/lib/python3.10/site-packages (from -r requirements.txt (line 29)) (0.6.2)\n",
      "Requirement already satisfied: jupyter_client==7.4.8 in ./venv/lib/python3.10/site-packages (from -r requirements.txt (line 30)) (7.4.8)\n",
      "Requirement already satisfied: jupyter_core==5.1.3 in ./venv/lib/python3.10/site-packages (from -r requirements.txt (line 31)) (5.1.3)\n",
      "Requirement already satisfied: jupyter_server==2.0.6 in ./venv/lib/python3.10/site-packages (from -r requirements.txt (line 32)) (2.0.6)\n",
      "Requirement already satisfied: jupyter_server_terminals==0.4.4 in ./venv/lib/python3.10/site-packages (from -r requirements.txt (line 33)) (0.4.4)\n",
      "Requirement already satisfied: jupyterlab-pygments==0.2.2 in ./venv/lib/python3.10/site-packages (from -r requirements.txt (line 34)) (0.2.2)\n",
      "Requirement already satisfied: MarkupSafe==2.1.1 in ./venv/lib/python3.10/site-packages (from -r requirements.txt (line 35)) (2.1.1)\n",
      "Requirement already satisfied: matplotlib-inline==0.1.6 in ./venv/lib/python3.10/site-packages (from -r requirements.txt (line 36)) (0.1.6)\n",
      "Requirement already satisfied: mistune==2.0.4 in ./venv/lib/python3.10/site-packages (from -r requirements.txt (line 37)) (2.0.4)\n",
      "Requirement already satisfied: nbclassic==0.4.8 in ./venv/lib/python3.10/site-packages (from -r requirements.txt (line 38)) (0.4.8)\n",
      "Requirement already satisfied: nbclient==0.7.2 in ./venv/lib/python3.10/site-packages (from -r requirements.txt (line 39)) (0.7.2)\n",
      "Requirement already satisfied: nbconvert==7.2.7 in ./venv/lib/python3.10/site-packages (from -r requirements.txt (line 40)) (7.2.7)\n",
      "Requirement already satisfied: nbformat==5.7.2 in ./venv/lib/python3.10/site-packages (from -r requirements.txt (line 41)) (5.7.2)\n",
      "Requirement already satisfied: nest-asyncio==1.5.6 in ./venv/lib/python3.10/site-packages (from -r requirements.txt (line 42)) (1.5.6)\n",
      "Requirement already satisfied: notebook==6.5.2 in ./venv/lib/python3.10/site-packages (from -r requirements.txt (line 43)) (6.5.2)\n",
      "Requirement already satisfied: notebook_shim==0.2.2 in ./venv/lib/python3.10/site-packages (from -r requirements.txt (line 44)) (0.2.2)\n",
      "Requirement already satisfied: numpy==1.24.1 in ./venv/lib/python3.10/site-packages (from -r requirements.txt (line 45)) (1.24.1)\n",
      "Requirement already satisfied: packaging==23.0 in ./venv/lib/python3.10/site-packages (from -r requirements.txt (line 46)) (23.0)\n",
      "Requirement already satisfied: pandas==1.5.2 in ./venv/lib/python3.10/site-packages (from -r requirements.txt (line 47)) (1.5.2)\n",
      "Requirement already satisfied: pandocfilters==1.5.0 in ./venv/lib/python3.10/site-packages (from -r requirements.txt (line 48)) (1.5.0)\n",
      "Requirement already satisfied: parso==0.8.3 in ./venv/lib/python3.10/site-packages (from -r requirements.txt (line 49)) (0.8.3)\n",
      "Requirement already satisfied: pexpect==4.8.0 in ./venv/lib/python3.10/site-packages (from -r requirements.txt (line 50)) (4.8.0)\n",
      "Requirement already satisfied: pickleshare==0.7.5 in ./venv/lib/python3.10/site-packages (from -r requirements.txt (line 51)) (0.7.5)\n",
      "Requirement already satisfied: platformdirs==2.6.2 in ./venv/lib/python3.10/site-packages (from -r requirements.txt (line 52)) (2.6.2)\n",
      "Requirement already satisfied: prometheus-client==0.15.0 in ./venv/lib/python3.10/site-packages (from -r requirements.txt (line 53)) (0.15.0)\n",
      "Requirement already satisfied: prompt-toolkit==3.0.36 in ./venv/lib/python3.10/site-packages (from -r requirements.txt (line 54)) (3.0.36)\n",
      "Requirement already satisfied: psutil==5.9.4 in ./venv/lib/python3.10/site-packages (from -r requirements.txt (line 55)) (5.9.4)\n",
      "Requirement already satisfied: ptyprocess==0.7.0 in ./venv/lib/python3.10/site-packages (from -r requirements.txt (line 56)) (0.7.0)\n",
      "Requirement already satisfied: pure-eval==0.2.2 in ./venv/lib/python3.10/site-packages (from -r requirements.txt (line 57)) (0.2.2)\n",
      "Requirement already satisfied: pycodestyle==2.10.0 in ./venv/lib/python3.10/site-packages (from -r requirements.txt (line 58)) (2.10.0)\n",
      "Requirement already satisfied: pycparser==2.21 in ./venv/lib/python3.10/site-packages (from -r requirements.txt (line 59)) (2.21)\n",
      "Requirement already satisfied: Pygments==2.14.0 in ./venv/lib/python3.10/site-packages (from -r requirements.txt (line 60)) (2.14.0)\n",
      "Requirement already satisfied: pyrsistent==0.19.3 in ./venv/lib/python3.10/site-packages (from -r requirements.txt (line 61)) (0.19.3)\n",
      "Requirement already satisfied: python-dateutil==2.8.2 in ./venv/lib/python3.10/site-packages (from -r requirements.txt (line 62)) (2.8.2)\n",
      "Requirement already satisfied: python-json-logger==2.0.4 in ./venv/lib/python3.10/site-packages (from -r requirements.txt (line 63)) (2.0.4)\n",
      "Requirement already satisfied: pytz==2022.7.1 in ./venv/lib/python3.10/site-packages (from -r requirements.txt (line 64)) (2022.7.1)\n",
      "Requirement already satisfied: PyYAML==6.0 in ./venv/lib/python3.10/site-packages (from -r requirements.txt (line 65)) (6.0)\n",
      "Requirement already satisfied: pyzmq==24.0.1 in ./venv/lib/python3.10/site-packages (from -r requirements.txt (line 66)) (24.0.1)\n",
      "Requirement already satisfied: rfc3339-validator==0.1.4 in ./venv/lib/python3.10/site-packages (from -r requirements.txt (line 67)) (0.1.4)\n",
      "Requirement already satisfied: rfc3986-validator==0.1.1 in ./venv/lib/python3.10/site-packages (from -r requirements.txt (line 68)) (0.1.1)\n",
      "Requirement already satisfied: Send2Trash==1.8.0 in ./venv/lib/python3.10/site-packages (from -r requirements.txt (line 69)) (1.8.0)\n",
      "Requirement already satisfied: six==1.16.0 in ./venv/lib/python3.10/site-packages (from -r requirements.txt (line 70)) (1.16.0)\n",
      "Requirement already satisfied: sniffio==1.3.0 in ./venv/lib/python3.10/site-packages (from -r requirements.txt (line 71)) (1.3.0)\n",
      "Requirement already satisfied: soupsieve==2.3.2.post1 in ./venv/lib/python3.10/site-packages (from -r requirements.txt (line 72)) (2.3.2.post1)\n",
      "Requirement already satisfied: stack-data==0.6.2 in ./venv/lib/python3.10/site-packages (from -r requirements.txt (line 73)) (0.6.2)\n",
      "Requirement already satisfied: terminado==0.17.1 in ./venv/lib/python3.10/site-packages (from -r requirements.txt (line 74)) (0.17.1)\n",
      "Requirement already satisfied: tinycss2==1.2.1 in ./venv/lib/python3.10/site-packages (from -r requirements.txt (line 75)) (1.2.1)\n",
      "Requirement already satisfied: tomli==2.0.1 in ./venv/lib/python3.10/site-packages (from -r requirements.txt (line 76)) (2.0.1)\n",
      "Requirement already satisfied: tornado==6.2 in ./venv/lib/python3.10/site-packages (from -r requirements.txt (line 77)) (6.2)\n",
      "Requirement already satisfied: traitlets==5.8.1 in ./venv/lib/python3.10/site-packages (from -r requirements.txt (line 78)) (5.8.1)\n",
      "Requirement already satisfied: uri-template==1.2.0 in ./venv/lib/python3.10/site-packages (from -r requirements.txt (line 79)) (1.2.0)\n",
      "Requirement already satisfied: wcwidth==0.2.5 in ./venv/lib/python3.10/site-packages (from -r requirements.txt (line 80)) (0.2.5)\n",
      "Requirement already satisfied: webcolors==1.12 in ./venv/lib/python3.10/site-packages (from -r requirements.txt (line 81)) (1.12)\n",
      "Requirement already satisfied: webencodings==0.5.1 in ./venv/lib/python3.10/site-packages (from -r requirements.txt (line 82)) (0.5.1)\n",
      "Requirement already satisfied: websocket-client==1.4.2 in ./venv/lib/python3.10/site-packages (from -r requirements.txt (line 83)) (1.4.2)\n",
      "Note: you may need to restart the kernel to use updated packages.\n"
     ]
    }
   ],
   "source": [
    "pip install -r requirements.txt"
   ]
  },
  {
   "cell_type": "code",
   "execution_count": 2,
   "metadata": {},
   "outputs": [
    {
     "name": "stdout",
     "output_type": "stream",
     "text": [
      "Note: you may need to restart the kernel to use updated packages.\n"
     ]
    }
   ],
   "source": [
    "pip freeze > requirements.txt"
   ]
  },
  {
   "cell_type": "code",
   "execution_count": 3,
   "metadata": {},
   "outputs": [
    {
     "name": "stdout",
     "output_type": "stream",
     "text": [
      "Requirement already satisfied: scikit-learn in ./venv/lib/python3.10/site-packages (1.2.0)\n",
      "Requirement already satisfied: threadpoolctl>=2.0.0 in ./venv/lib/python3.10/site-packages (from scikit-learn) (3.1.0)\n",
      "Requirement already satisfied: numpy>=1.17.3 in ./venv/lib/python3.10/site-packages (from scikit-learn) (1.24.1)\n",
      "Requirement already satisfied: scipy>=1.3.2 in ./venv/lib/python3.10/site-packages (from scikit-learn) (1.10.0)\n",
      "Requirement already satisfied: joblib>=1.1.1 in ./venv/lib/python3.10/site-packages (from scikit-learn) (1.2.0)\n",
      "Note: you may need to restart the kernel to use updated packages.\n"
     ]
    }
   ],
   "source": [
    "pip install scikit-learn"
   ]
  },
  {
   "cell_type": "code",
   "execution_count": null,
   "metadata": {},
   "outputs": [],
   "source": []
  }
 ],
 "metadata": {
  "kernelspec": {
   "display_name": "venv",
   "language": "python",
   "name": "python3"
  },
  "language_info": {
   "codemirror_mode": {
    "name": "ipython",
    "version": 3
   },
   "file_extension": ".py",
   "mimetype": "text/x-python",
   "name": "python",
   "nbconvert_exporter": "python",
   "pygments_lexer": "ipython3",
   "version": "3.10.6 (main, Nov 14 2022, 16:10:14) [GCC 11.3.0]"
  },
  "orig_nbformat": 4,
  "vscode": {
   "interpreter": {
    "hash": "1e0c698051b21bfdeb803ae7a60794cf1d5cfa15e417786d6dc0ab4fc7ea65f2"
   }
  }
 },
 "nbformat": 4,
 "nbformat_minor": 2
}
